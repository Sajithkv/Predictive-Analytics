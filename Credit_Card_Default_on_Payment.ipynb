{
 "cells": [
  {
   "cell_type": "code",
   "execution_count": 180,
   "metadata": {},
   "outputs": [],
   "source": [
    "   import pandas as pd\n",
    "   import numpy as np\n",
    "   from sklearn import preprocessing\n",
    "   from sklearn.cross_validation import train_test_split\n",
    "   from sklearn import metrics\n",
    "   from sklearn.metrics import roc_curve,auc,recall_score,precision_score,accuracy_score,f1_score\n",
    "   from sklearn.metrics import confusion_matrix,average_precision_score,recall_score\n",
    "   import seaborn as sns\n",
    "   %matplotlib inline"
   ]
  },
  {
   "cell_type": "code",
   "execution_count": 181,
   "metadata": {},
   "outputs": [
    {
     "name": "stderr",
     "output_type": "stream",
     "text": [
      "/Users/kvsajith/anaconda3/lib/python3.6/site-packages/IPython/core/interactiveshell.py:2785: DtypeWarning: Columns (2,5) have mixed types. Specify dtype option on import or set low_memory=False.\n",
      "  interactivity=interactivity, compiler=compiler, result=result)\n"
     ]
    }
   ],
   "source": [
    "df=pd.read_csv(\"/Users/kvsajith/Downloads/Default_On_Payment.csv\")"
   ]
  },
  {
   "cell_type": "code",
   "execution_count": 182,
   "metadata": {},
   "outputs": [
    {
     "name": "stdout",
     "output_type": "stream",
     "text": [
      "<class 'pandas.core.frame.DataFrame'>\n",
      "RangeIndex: 40121 entries, 0 to 40120\n",
      "Data columns (total 22 columns):\n",
      "Customer_ID                    40120 non-null float64\n",
      "Status_Checking_Acc            40121 non-null object\n",
      "Duration_in_Months             40121 non-null object\n",
      "Credit_History                 40121 non-null object\n",
      "Purposre_Credit_Taken          40120 non-null object\n",
      "Credit_Amount                  40120 non-null object\n",
      "Savings_Acc                    40120 non-null object\n",
      "Years_At_Present_Employment    40120 non-null object\n",
      "Inst_Rt_Income                 40120 non-null float64\n",
      "Marital_Status_Gender          40120 non-null object\n",
      "Other_Debtors_Guarantors       40120 non-null object\n",
      "Current_Address_Yrs            40120 non-null float64\n",
      "Property                       40119 non-null object\n",
      "Age                            40119 non-null float64\n",
      "Other_Inst_Plans               40119 non-null object\n",
      "Housing                        40119 non-null object\n",
      "Num_CC                         40119 non-null float64\n",
      "Job                            40119 non-null object\n",
      "Dependents                     40119 non-null float64\n",
      "Telephone                      40119 non-null object\n",
      "Foreign_Worker                 40119 non-null object\n",
      "Default_On_Payment             40119 non-null float64\n",
      "dtypes: float64(7), object(15)\n",
      "memory usage: 6.7+ MB\n"
     ]
    }
   ],
   "source": [
    "df.info()"
   ]
  },
  {
   "cell_type": "code",
   "execution_count": 183,
   "metadata": {},
   "outputs": [],
   "source": [
    "from IPython.core.interactiveshell import InteractiveShell\n",
    "InteractiveShell.ast_node_interactivity=\"all\""
   ]
  },
  {
   "cell_type": "code",
   "execution_count": 184,
   "metadata": {},
   "outputs": [
    {
     "data": {
      "text/plain": [
       "(40121, 22)"
      ]
     },
     "execution_count": 184,
     "metadata": {},
     "output_type": "execute_result"
    }
   ],
   "source": [
    "df.shape"
   ]
  },
  {
   "cell_type": "code",
   "execution_count": 185,
   "metadata": {},
   "outputs": [
    {
     "data": {
      "text/plain": [
       "29"
      ]
     },
     "execution_count": 185,
     "metadata": {},
     "output_type": "execute_result"
    }
   ],
   "source": [
    "df.isnull().sum().sum()"
   ]
  },
  {
   "cell_type": "code",
   "execution_count": 186,
   "metadata": {},
   "outputs": [
    {
     "data": {
      "text/plain": [
       "Customer_ID                     True\n",
       "Status_Checking_Acc            False\n",
       "Duration_in_Months             False\n",
       "Credit_History                 False\n",
       "Purposre_Credit_Taken           True\n",
       "Credit_Amount                   True\n",
       "Savings_Acc                     True\n",
       "Years_At_Present_Employment     True\n",
       "Inst_Rt_Income                  True\n",
       "Marital_Status_Gender           True\n",
       "Other_Debtors_Guarantors        True\n",
       "Current_Address_Yrs             True\n",
       "Property                        True\n",
       "Age                             True\n",
       "Other_Inst_Plans                True\n",
       "Housing                         True\n",
       "Num_CC                          True\n",
       "Job                             True\n",
       "Dependents                      True\n",
       "Telephone                       True\n",
       "Foreign_Worker                  True\n",
       "Default_On_Payment              True\n",
       "dtype: bool"
      ]
     },
     "execution_count": 186,
     "metadata": {},
     "output_type": "execute_result"
    }
   ],
   "source": [
    "pd.isnull(df).any()"
   ]
  },
  {
   "cell_type": "code",
   "execution_count": 187,
   "metadata": {},
   "outputs": [
    {
     "data": {
      "text/plain": [
       "Customer_ID                    1\n",
       "Status_Checking_Acc            0\n",
       "Duration_in_Months             0\n",
       "Credit_History                 0\n",
       "Purposre_Credit_Taken          1\n",
       "Credit_Amount                  1\n",
       "Savings_Acc                    1\n",
       "Years_At_Present_Employment    1\n",
       "Inst_Rt_Income                 1\n",
       "Marital_Status_Gender          1\n",
       "Other_Debtors_Guarantors       1\n",
       "Current_Address_Yrs            1\n",
       "Property                       2\n",
       "Age                            2\n",
       "Other_Inst_Plans               2\n",
       "Housing                        2\n",
       "Num_CC                         2\n",
       "Job                            2\n",
       "Dependents                     2\n",
       "Telephone                      2\n",
       "Foreign_Worker                 2\n",
       "Default_On_Payment             2\n",
       "dtype: int64"
      ]
     },
     "execution_count": 187,
     "metadata": {},
     "output_type": "execute_result"
    }
   ],
   "source": [
    "pd.isnull(df).sum()"
   ]
  },
  {
   "cell_type": "code",
   "execution_count": 188,
   "metadata": {},
   "outputs": [],
   "source": [
    "df1=df.dropna(axis=0,how='any',thresh=None,subset=None,inplace=False)"
   ]
  },
  {
   "cell_type": "code",
   "execution_count": 189,
   "metadata": {},
   "outputs": [
    {
     "data": {
      "text/plain": [
       "(40119, 22)"
      ]
     },
     "execution_count": 189,
     "metadata": {},
     "output_type": "execute_result"
    }
   ],
   "source": [
    "df1.shape"
   ]
  },
  {
   "cell_type": "code",
   "execution_count": 190,
   "metadata": {},
   "outputs": [
    {
     "data": {
      "text/plain": [
       "(40119, 22)"
      ]
     },
     "execution_count": 190,
     "metadata": {},
     "output_type": "execute_result"
    },
    {
     "data": {
      "text/plain": [
       "pandas.core.frame.DataFrame"
      ]
     },
     "execution_count": 190,
     "metadata": {},
     "output_type": "execute_result"
    },
    {
     "data": {
      "text/plain": [
       "882662"
      ]
     },
     "execution_count": 190,
     "metadata": {},
     "output_type": "execute_result"
    },
    {
     "data": {
      "text/html": [
       "<div>\n",
       "<style scoped>\n",
       "    .dataframe tbody tr th:only-of-type {\n",
       "        vertical-align: middle;\n",
       "    }\n",
       "\n",
       "    .dataframe tbody tr th {\n",
       "        vertical-align: top;\n",
       "    }\n",
       "\n",
       "    .dataframe thead th {\n",
       "        text-align: right;\n",
       "    }\n",
       "</style>\n",
       "<table border=\"1\" class=\"dataframe\">\n",
       "  <thead>\n",
       "    <tr style=\"text-align: right;\">\n",
       "      <th></th>\n",
       "      <th>Customer_ID</th>\n",
       "      <th>Status_Checking_Acc</th>\n",
       "      <th>Duration_in_Months</th>\n",
       "      <th>Credit_History</th>\n",
       "      <th>Purposre_Credit_Taken</th>\n",
       "      <th>Credit_Amount</th>\n",
       "      <th>Savings_Acc</th>\n",
       "      <th>Years_At_Present_Employment</th>\n",
       "      <th>Inst_Rt_Income</th>\n",
       "      <th>Marital_Status_Gender</th>\n",
       "      <th>...</th>\n",
       "      <th>Property</th>\n",
       "      <th>Age</th>\n",
       "      <th>Other_Inst_Plans</th>\n",
       "      <th>Housing</th>\n",
       "      <th>Num_CC</th>\n",
       "      <th>Job</th>\n",
       "      <th>Dependents</th>\n",
       "      <th>Telephone</th>\n",
       "      <th>Foreign_Worker</th>\n",
       "      <th>Default_On_Payment</th>\n",
       "    </tr>\n",
       "  </thead>\n",
       "  <tbody>\n",
       "    <tr>\n",
       "      <th>0</th>\n",
       "      <td>100015.0</td>\n",
       "      <td>A14</td>\n",
       "      <td>27</td>\n",
       "      <td>A32</td>\n",
       "      <td>A40</td>\n",
       "      <td>2570</td>\n",
       "      <td>A61</td>\n",
       "      <td>A73</td>\n",
       "      <td>3.0</td>\n",
       "      <td>A92</td>\n",
       "      <td>...</td>\n",
       "      <td>A121</td>\n",
       "      <td>21.0</td>\n",
       "      <td>A143</td>\n",
       "      <td>A151</td>\n",
       "      <td>1.0</td>\n",
       "      <td>A173</td>\n",
       "      <td>1.0</td>\n",
       "      <td>A191</td>\n",
       "      <td>A201</td>\n",
       "      <td>1.0</td>\n",
       "    </tr>\n",
       "    <tr>\n",
       "      <th>1</th>\n",
       "      <td>100031.0</td>\n",
       "      <td>A11</td>\n",
       "      <td>12</td>\n",
       "      <td>A34</td>\n",
       "      <td>A43</td>\n",
       "      <td>385</td>\n",
       "      <td>A61</td>\n",
       "      <td>A74</td>\n",
       "      <td>4.0</td>\n",
       "      <td>A92</td>\n",
       "      <td>...</td>\n",
       "      <td>A121</td>\n",
       "      <td>58.0</td>\n",
       "      <td>A143</td>\n",
       "      <td>A152</td>\n",
       "      <td>4.0</td>\n",
       "      <td>A172</td>\n",
       "      <td>1.0</td>\n",
       "      <td>A192</td>\n",
       "      <td>A201</td>\n",
       "      <td>0.0</td>\n",
       "    </tr>\n",
       "    <tr>\n",
       "      <th>2</th>\n",
       "      <td>100046.0</td>\n",
       "      <td>A12</td>\n",
       "      <td>13</td>\n",
       "      <td>A34</td>\n",
       "      <td>A43</td>\n",
       "      <td>882</td>\n",
       "      <td>A61</td>\n",
       "      <td>A72</td>\n",
       "      <td>4.0</td>\n",
       "      <td>A93</td>\n",
       "      <td>...</td>\n",
       "      <td>A121</td>\n",
       "      <td>23.0</td>\n",
       "      <td>A143</td>\n",
       "      <td>A152</td>\n",
       "      <td>2.0</td>\n",
       "      <td>A173</td>\n",
       "      <td>1.0</td>\n",
       "      <td>A191</td>\n",
       "      <td>A201</td>\n",
       "      <td>0.0</td>\n",
       "    </tr>\n",
       "    <tr>\n",
       "      <th>3</th>\n",
       "      <td>100103.0</td>\n",
       "      <td>A14</td>\n",
       "      <td>24</td>\n",
       "      <td>A32</td>\n",
       "      <td>A40</td>\n",
       "      <td>1393</td>\n",
       "      <td>A61</td>\n",
       "      <td>A73</td>\n",
       "      <td>2.0</td>\n",
       "      <td>A93</td>\n",
       "      <td>...</td>\n",
       "      <td>A121</td>\n",
       "      <td>31.0</td>\n",
       "      <td>A143</td>\n",
       "      <td>A152</td>\n",
       "      <td>1.0</td>\n",
       "      <td>A173</td>\n",
       "      <td>1.0</td>\n",
       "      <td>A192</td>\n",
       "      <td>A201</td>\n",
       "      <td>0.0</td>\n",
       "    </tr>\n",
       "    <tr>\n",
       "      <th>4</th>\n",
       "      <td>100104.0</td>\n",
       "      <td>A11</td>\n",
       "      <td>24</td>\n",
       "      <td>A32</td>\n",
       "      <td>A40</td>\n",
       "      <td>3123</td>\n",
       "      <td>A61</td>\n",
       "      <td>A72</td>\n",
       "      <td>4.0</td>\n",
       "      <td>A92</td>\n",
       "      <td>...</td>\n",
       "      <td>A122</td>\n",
       "      <td>27.0</td>\n",
       "      <td>A143</td>\n",
       "      <td>A152</td>\n",
       "      <td>1.0</td>\n",
       "      <td>A173</td>\n",
       "      <td>1.0</td>\n",
       "      <td>A191</td>\n",
       "      <td>A201</td>\n",
       "      <td>1.0</td>\n",
       "    </tr>\n",
       "  </tbody>\n",
       "</table>\n",
       "<p>5 rows × 22 columns</p>\n",
       "</div>"
      ],
      "text/plain": [
       "   Customer_ID Status_Checking_Acc Duration_in_Months Credit_History  \\\n",
       "0     100015.0                 A14                 27            A32   \n",
       "1     100031.0                 A11                 12            A34   \n",
       "2     100046.0                 A12                 13            A34   \n",
       "3     100103.0                 A14                 24            A32   \n",
       "4     100104.0                 A11                 24            A32   \n",
       "\n",
       "  Purposre_Credit_Taken Credit_Amount Savings_Acc Years_At_Present_Employment  \\\n",
       "0                   A40          2570         A61                         A73   \n",
       "1                   A43           385         A61                         A74   \n",
       "2                   A43           882         A61                         A72   \n",
       "3                   A40          1393         A61                         A73   \n",
       "4                   A40          3123         A61                         A72   \n",
       "\n",
       "   Inst_Rt_Income Marital_Status_Gender        ...         Property   Age  \\\n",
       "0             3.0                   A92        ...             A121  21.0   \n",
       "1             4.0                   A92        ...             A121  58.0   \n",
       "2             4.0                   A93        ...             A121  23.0   \n",
       "3             2.0                   A93        ...             A121  31.0   \n",
       "4             4.0                   A92        ...             A122  27.0   \n",
       "\n",
       "  Other_Inst_Plans   Housing Num_CC   Job  Dependents Telephone  \\\n",
       "0              A143     A151    1.0  A173         1.0      A191   \n",
       "1              A143     A152    4.0  A172         1.0      A192   \n",
       "2              A143     A152    2.0  A173         1.0      A191   \n",
       "3              A143     A152    1.0  A173         1.0      A192   \n",
       "4              A143     A152    1.0  A173         1.0      A191   \n",
       "\n",
       "   Foreign_Worker Default_On_Payment  \n",
       "0            A201                1.0  \n",
       "1            A201                0.0  \n",
       "2            A201                0.0  \n",
       "3            A201                0.0  \n",
       "4            A201                1.0  \n",
       "\n",
       "[5 rows x 22 columns]"
      ]
     },
     "execution_count": 190,
     "metadata": {},
     "output_type": "execute_result"
    }
   ],
   "source": [
    "df1.shape\n",
    "type(df)\n",
    "df.size\n",
    "df.head()"
   ]
  },
  {
   "cell_type": "code",
   "execution_count": 191,
   "metadata": {},
   "outputs": [
    {
     "data": {
      "text/html": [
       "<div>\n",
       "<style scoped>\n",
       "    .dataframe tbody tr th:only-of-type {\n",
       "        vertical-align: middle;\n",
       "    }\n",
       "\n",
       "    .dataframe tbody tr th {\n",
       "        vertical-align: top;\n",
       "    }\n",
       "\n",
       "    .dataframe thead th {\n",
       "        text-align: right;\n",
       "    }\n",
       "</style>\n",
       "<table border=\"1\" class=\"dataframe\">\n",
       "  <thead>\n",
       "    <tr style=\"text-align: right;\">\n",
       "      <th></th>\n",
       "      <th>Customer_ID</th>\n",
       "      <th>Inst_Rt_Income</th>\n",
       "      <th>Current_Address_Yrs</th>\n",
       "      <th>Age</th>\n",
       "      <th>Num_CC</th>\n",
       "      <th>Dependents</th>\n",
       "      <th>Default_On_Payment</th>\n",
       "    </tr>\n",
       "  </thead>\n",
       "  <tbody>\n",
       "    <tr>\n",
       "      <th>count</th>\n",
       "      <td>40119.000000</td>\n",
       "      <td>40119.000000</td>\n",
       "      <td>40119.000000</td>\n",
       "      <td>40119.000000</td>\n",
       "      <td>40119.000000</td>\n",
       "      <td>40119.000000</td>\n",
       "      <td>40119.000000</td>\n",
       "    </tr>\n",
       "    <tr>\n",
       "      <th>mean</th>\n",
       "      <td>552084.523642</td>\n",
       "      <td>2.973379</td>\n",
       "      <td>2.845086</td>\n",
       "      <td>35.540442</td>\n",
       "      <td>1.407014</td>\n",
       "      <td>1.154889</td>\n",
       "      <td>0.299135</td>\n",
       "    </tr>\n",
       "    <tr>\n",
       "      <th>std</th>\n",
       "      <td>261363.936402</td>\n",
       "      <td>1.118012</td>\n",
       "      <td>1.103048</td>\n",
       "      <td>11.366368</td>\n",
       "      <td>0.577355</td>\n",
       "      <td>0.361804</td>\n",
       "      <td>0.457885</td>\n",
       "    </tr>\n",
       "    <tr>\n",
       "      <th>min</th>\n",
       "      <td>100015.000000</td>\n",
       "      <td>1.000000</td>\n",
       "      <td>1.000000</td>\n",
       "      <td>19.000000</td>\n",
       "      <td>1.000000</td>\n",
       "      <td>1.000000</td>\n",
       "      <td>0.000000</td>\n",
       "    </tr>\n",
       "    <tr>\n",
       "      <th>25%</th>\n",
       "      <td>325148.500000</td>\n",
       "      <td>2.000000</td>\n",
       "      <td>2.000000</td>\n",
       "      <td>27.000000</td>\n",
       "      <td>1.000000</td>\n",
       "      <td>1.000000</td>\n",
       "      <td>0.000000</td>\n",
       "    </tr>\n",
       "    <tr>\n",
       "      <th>50%</th>\n",
       "      <td>551443.000000</td>\n",
       "      <td>3.000000</td>\n",
       "      <td>3.000000</td>\n",
       "      <td>33.000000</td>\n",
       "      <td>1.000000</td>\n",
       "      <td>1.000000</td>\n",
       "      <td>0.000000</td>\n",
       "    </tr>\n",
       "    <tr>\n",
       "      <th>75%</th>\n",
       "      <td>778206.000000</td>\n",
       "      <td>4.000000</td>\n",
       "      <td>4.000000</td>\n",
       "      <td>42.000000</td>\n",
       "      <td>2.000000</td>\n",
       "      <td>1.000000</td>\n",
       "      <td>1.000000</td>\n",
       "    </tr>\n",
       "    <tr>\n",
       "      <th>max</th>\n",
       "      <td>999961.000000</td>\n",
       "      <td>4.000000</td>\n",
       "      <td>4.000000</td>\n",
       "      <td>75.000000</td>\n",
       "      <td>4.000000</td>\n",
       "      <td>2.000000</td>\n",
       "      <td>1.000000</td>\n",
       "    </tr>\n",
       "  </tbody>\n",
       "</table>\n",
       "</div>"
      ],
      "text/plain": [
       "         Customer_ID  Inst_Rt_Income  Current_Address_Yrs           Age  \\\n",
       "count   40119.000000    40119.000000         40119.000000  40119.000000   \n",
       "mean   552084.523642        2.973379             2.845086     35.540442   \n",
       "std    261363.936402        1.118012             1.103048     11.366368   \n",
       "min    100015.000000        1.000000             1.000000     19.000000   \n",
       "25%    325148.500000        2.000000             2.000000     27.000000   \n",
       "50%    551443.000000        3.000000             3.000000     33.000000   \n",
       "75%    778206.000000        4.000000             4.000000     42.000000   \n",
       "max    999961.000000        4.000000             4.000000     75.000000   \n",
       "\n",
       "             Num_CC    Dependents  Default_On_Payment  \n",
       "count  40119.000000  40119.000000        40119.000000  \n",
       "mean       1.407014      1.154889            0.299135  \n",
       "std        0.577355      0.361804            0.457885  \n",
       "min        1.000000      1.000000            0.000000  \n",
       "25%        1.000000      1.000000            0.000000  \n",
       "50%        1.000000      1.000000            0.000000  \n",
       "75%        2.000000      1.000000            1.000000  \n",
       "max        4.000000      2.000000            1.000000  "
      ]
     },
     "execution_count": 191,
     "metadata": {},
     "output_type": "execute_result"
    }
   ],
   "source": [
    "df1.describe()"
   ]
  },
  {
   "cell_type": "code",
   "execution_count": 192,
   "metadata": {},
   "outputs": [
    {
     "data": {
      "text/plain": [
       "Customer_ID                    False\n",
       "Status_Checking_Acc            False\n",
       "Duration_in_Months             False\n",
       "Credit_History                 False\n",
       "Purposre_Credit_Taken          False\n",
       "Credit_Amount                  False\n",
       "Savings_Acc                    False\n",
       "Years_At_Present_Employment    False\n",
       "Inst_Rt_Income                 False\n",
       "Marital_Status_Gender          False\n",
       "Other_Debtors_Guarantors       False\n",
       "Current_Address_Yrs            False\n",
       "Property                       False\n",
       "Age                            False\n",
       "Other_Inst_Plans               False\n",
       "Housing                        False\n",
       "Num_CC                         False\n",
       "Job                            False\n",
       "Dependents                     False\n",
       "Telephone                      False\n",
       "Foreign_Worker                 False\n",
       "Default_On_Payment             False\n",
       "dtype: bool"
      ]
     },
     "execution_count": 192,
     "metadata": {},
     "output_type": "execute_result"
    },
    {
     "data": {
      "text/plain": [
       "Customer_ID                    0\n",
       "Status_Checking_Acc            0\n",
       "Duration_in_Months             0\n",
       "Credit_History                 0\n",
       "Purposre_Credit_Taken          0\n",
       "Credit_Amount                  0\n",
       "Savings_Acc                    0\n",
       "Years_At_Present_Employment    0\n",
       "Inst_Rt_Income                 0\n",
       "Marital_Status_Gender          0\n",
       "Other_Debtors_Guarantors       0\n",
       "Current_Address_Yrs            0\n",
       "Property                       0\n",
       "Age                            0\n",
       "Other_Inst_Plans               0\n",
       "Housing                        0\n",
       "Num_CC                         0\n",
       "Job                            0\n",
       "Dependents                     0\n",
       "Telephone                      0\n",
       "Foreign_Worker                 0\n",
       "Default_On_Payment             0\n",
       "dtype: int64"
      ]
     },
     "execution_count": 192,
     "metadata": {},
     "output_type": "execute_result"
    },
    {
     "name": "stdout",
     "output_type": "stream",
     "text": [
      "<class 'pandas.core.frame.DataFrame'>\n",
      "Int64Index: 40119 entries, 0 to 40119\n",
      "Data columns (total 22 columns):\n",
      "Customer_ID                    40119 non-null float64\n",
      "Status_Checking_Acc            40119 non-null object\n",
      "Duration_in_Months             40119 non-null object\n",
      "Credit_History                 40119 non-null object\n",
      "Purposre_Credit_Taken          40119 non-null object\n",
      "Credit_Amount                  40119 non-null object\n",
      "Savings_Acc                    40119 non-null object\n",
      "Years_At_Present_Employment    40119 non-null object\n",
      "Inst_Rt_Income                 40119 non-null float64\n",
      "Marital_Status_Gender          40119 non-null object\n",
      "Other_Debtors_Guarantors       40119 non-null object\n",
      "Current_Address_Yrs            40119 non-null float64\n",
      "Property                       40119 non-null object\n",
      "Age                            40119 non-null float64\n",
      "Other_Inst_Plans               40119 non-null object\n",
      "Housing                        40119 non-null object\n",
      "Num_CC                         40119 non-null float64\n",
      "Job                            40119 non-null object\n",
      "Dependents                     40119 non-null float64\n",
      "Telephone                      40119 non-null object\n",
      "Foreign_Worker                 40119 non-null object\n",
      "Default_On_Payment             40119 non-null float64\n",
      "dtypes: float64(7), object(15)\n",
      "memory usage: 7.0+ MB\n"
     ]
    }
   ],
   "source": [
    "pd.isnull(df1).any()\n",
    "pd.isnull(df1).sum()\n",
    "df1.info()"
   ]
  },
  {
   "cell_type": "code",
   "execution_count": 193,
   "metadata": {},
   "outputs": [
    {
     "name": "stdout",
     "output_type": "stream",
     "text": [
      "count of Labels\n"
     ]
    },
    {
     "data": {
      "text/plain": [
       "Default_On_Payment\n",
       "0.0    28118\n",
       "1.0    12001\n",
       "dtype: int64"
      ]
     },
     "execution_count": 193,
     "metadata": {},
     "output_type": "execute_result"
    }
   ],
   "source": [
    "print('count of Labels')\n",
    "df1.groupby('Default_On_Payment').size()"
   ]
  },
  {
   "cell_type": "code",
   "execution_count": 194,
   "metadata": {},
   "outputs": [],
   "source": [
    "le=preprocessing.LabelEncoder()"
   ]
  },
  {
   "cell_type": "code",
   "execution_count": 195,
   "metadata": {},
   "outputs": [
    {
     "data": {
      "text/plain": [
       "LabelEncoder()"
      ]
     },
     "execution_count": 195,
     "metadata": {},
     "output_type": "execute_result"
    }
   ],
   "source": [
    "le.fit(df1['Default_On_Payment'])"
   ]
  },
  {
   "cell_type": "code",
   "execution_count": 196,
   "metadata": {},
   "outputs": [],
   "source": [
    "dfn=le.transform(df1['Default_On_Payment'])"
   ]
  },
  {
   "cell_type": "code",
   "execution_count": 197,
   "metadata": {},
   "outputs": [
    {
     "name": "stdout",
     "output_type": "stream",
     "text": [
      "<class 'pandas.core.frame.DataFrame'>\n",
      "Int64Index: 40119 entries, 0 to 40119\n",
      "Data columns (total 23 columns):\n",
      "Customer_ID                    40119 non-null float64\n",
      "Status_Checking_Acc            40119 non-null object\n",
      "Duration_in_Months             40119 non-null object\n",
      "Credit_History                 40119 non-null object\n",
      "Purposre_Credit_Taken          40119 non-null object\n",
      "Credit_Amount                  40119 non-null object\n",
      "Savings_Acc                    40119 non-null object\n",
      "Years_At_Present_Employment    40119 non-null object\n",
      "Inst_Rt_Income                 40119 non-null float64\n",
      "Marital_Status_Gender          40119 non-null object\n",
      "Other_Debtors_Guarantors       40119 non-null object\n",
      "Current_Address_Yrs            40119 non-null float64\n",
      "Property                       40119 non-null object\n",
      "Age                            40119 non-null float64\n",
      "Other_Inst_Plans               40119 non-null object\n",
      "Housing                        40119 non-null object\n",
      "Num_CC                         40119 non-null float64\n",
      "Job                            40119 non-null object\n",
      "Dependents                     40119 non-null float64\n",
      "Telephone                      40119 non-null object\n",
      "Foreign_Worker                 40119 non-null object\n",
      "Default_On_Payment             40119 non-null float64\n",
      "Y                              40119 non-null int64\n",
      "dtypes: float64(7), int64(1), object(15)\n",
      "memory usage: 7.3+ MB\n"
     ]
    },
    {
     "name": "stderr",
     "output_type": "stream",
     "text": [
      "/Users/kvsajith/anaconda3/lib/python3.6/site-packages/ipykernel_launcher.py:1: SettingWithCopyWarning: \n",
      "A value is trying to be set on a copy of a slice from a DataFrame.\n",
      "Try using .loc[row_indexer,col_indexer] = value instead\n",
      "\n",
      "See the caveats in the documentation: http://pandas.pydata.org/pandas-docs/stable/indexing.html#indexing-view-versus-copy\n",
      "  \"\"\"Entry point for launching an IPython kernel.\n"
     ]
    },
    {
     "data": {
      "text/plain": [
       "Index(['Customer_ID', 'Status_Checking_Acc', 'Duration_in_Months',\n",
       "       'Credit_History', 'Purposre_Credit_Taken', 'Credit_Amount',\n",
       "       'Savings_Acc', 'Years_At_Present_Employment', 'Inst_Rt_Income',\n",
       "       'Marital_Status_Gender', 'Other_Debtors_Guarantors',\n",
       "       'Current_Address_Yrs', 'Property', 'Age', 'Other_Inst_Plans ',\n",
       "       'Housing', 'Num_CC', 'Job', 'Dependents', 'Telephone', 'Foreign_Worker',\n",
       "       'Default_On_Payment', 'Y'],\n",
       "      dtype='object')"
      ]
     },
     "execution_count": 197,
     "metadata": {},
     "output_type": "execute_result"
    }
   ],
   "source": [
    "df1['Y']=dfn\n",
    "df1.info()\n",
    "df1.columns"
   ]
  },
  {
   "cell_type": "code",
   "execution_count": 198,
   "metadata": {},
   "outputs": [],
   "source": [
    "x_catg=df1.loc[:,('Status_Checking_Acc',\n",
    "       'Credit_History', 'Purposre_Credit_Taken',\n",
    "       'Savings_Acc', 'Years_At_Present_Employment',\n",
    "       'Marital_Status_Gender', 'Other_Debtors_Guarantors',\n",
    "       'Property','Other_Inst_Plans ',\n",
    "       'Housing','Job','Telephone', 'Foreign_Worker')]"
   ]
  },
  {
   "cell_type": "code",
   "execution_count": 199,
   "metadata": {},
   "outputs": [
    {
     "data": {
      "text/html": [
       "<div>\n",
       "<style scoped>\n",
       "    .dataframe tbody tr th:only-of-type {\n",
       "        vertical-align: middle;\n",
       "    }\n",
       "\n",
       "    .dataframe tbody tr th {\n",
       "        vertical-align: top;\n",
       "    }\n",
       "\n",
       "    .dataframe thead th {\n",
       "        text-align: right;\n",
       "    }\n",
       "</style>\n",
       "<table border=\"1\" class=\"dataframe\">\n",
       "  <thead>\n",
       "    <tr style=\"text-align: right;\">\n",
       "      <th></th>\n",
       "      <th>Status_Checking_Acc</th>\n",
       "      <th>Credit_History</th>\n",
       "      <th>Purposre_Credit_Taken</th>\n",
       "      <th>Savings_Acc</th>\n",
       "      <th>Years_At_Present_Employment</th>\n",
       "      <th>Marital_Status_Gender</th>\n",
       "      <th>Other_Debtors_Guarantors</th>\n",
       "      <th>Property</th>\n",
       "      <th>Other_Inst_Plans</th>\n",
       "      <th>Housing</th>\n",
       "      <th>Job</th>\n",
       "      <th>Telephone</th>\n",
       "      <th>Foreign_Worker</th>\n",
       "    </tr>\n",
       "  </thead>\n",
       "  <tbody>\n",
       "    <tr>\n",
       "      <th>0</th>\n",
       "      <td>A14</td>\n",
       "      <td>A32</td>\n",
       "      <td>A40</td>\n",
       "      <td>A61</td>\n",
       "      <td>A73</td>\n",
       "      <td>A92</td>\n",
       "      <td>A101</td>\n",
       "      <td>A121</td>\n",
       "      <td>A143</td>\n",
       "      <td>A151</td>\n",
       "      <td>A173</td>\n",
       "      <td>A191</td>\n",
       "      <td>A201</td>\n",
       "    </tr>\n",
       "    <tr>\n",
       "      <th>1</th>\n",
       "      <td>A11</td>\n",
       "      <td>A34</td>\n",
       "      <td>A43</td>\n",
       "      <td>A61</td>\n",
       "      <td>A74</td>\n",
       "      <td>A92</td>\n",
       "      <td>A101</td>\n",
       "      <td>A121</td>\n",
       "      <td>A143</td>\n",
       "      <td>A152</td>\n",
       "      <td>A172</td>\n",
       "      <td>A192</td>\n",
       "      <td>A201</td>\n",
       "    </tr>\n",
       "    <tr>\n",
       "      <th>2</th>\n",
       "      <td>A12</td>\n",
       "      <td>A34</td>\n",
       "      <td>A43</td>\n",
       "      <td>A61</td>\n",
       "      <td>A72</td>\n",
       "      <td>A93</td>\n",
       "      <td>A103</td>\n",
       "      <td>A121</td>\n",
       "      <td>A143</td>\n",
       "      <td>A152</td>\n",
       "      <td>A173</td>\n",
       "      <td>A191</td>\n",
       "      <td>A201</td>\n",
       "    </tr>\n",
       "    <tr>\n",
       "      <th>3</th>\n",
       "      <td>A14</td>\n",
       "      <td>A32</td>\n",
       "      <td>A40</td>\n",
       "      <td>A61</td>\n",
       "      <td>A73</td>\n",
       "      <td>A93</td>\n",
       "      <td>A103</td>\n",
       "      <td>A121</td>\n",
       "      <td>A143</td>\n",
       "      <td>A152</td>\n",
       "      <td>A173</td>\n",
       "      <td>A192</td>\n",
       "      <td>A201</td>\n",
       "    </tr>\n",
       "    <tr>\n",
       "      <th>4</th>\n",
       "      <td>A11</td>\n",
       "      <td>A32</td>\n",
       "      <td>A40</td>\n",
       "      <td>A61</td>\n",
       "      <td>A72</td>\n",
       "      <td>A92</td>\n",
       "      <td>A101</td>\n",
       "      <td>A122</td>\n",
       "      <td>A143</td>\n",
       "      <td>A152</td>\n",
       "      <td>A173</td>\n",
       "      <td>A191</td>\n",
       "      <td>A201</td>\n",
       "    </tr>\n",
       "  </tbody>\n",
       "</table>\n",
       "</div>"
      ],
      "text/plain": [
       "  Status_Checking_Acc Credit_History Purposre_Credit_Taken Savings_Acc  \\\n",
       "0                 A14            A32                   A40         A61   \n",
       "1                 A11            A34                   A43         A61   \n",
       "2                 A12            A34                   A43         A61   \n",
       "3                 A14            A32                   A40         A61   \n",
       "4                 A11            A32                   A40         A61   \n",
       "\n",
       "  Years_At_Present_Employment Marital_Status_Gender Other_Debtors_Guarantors  \\\n",
       "0                         A73                   A92                     A101   \n",
       "1                         A74                   A92                     A101   \n",
       "2                         A72                   A93                     A103   \n",
       "3                         A73                   A93                     A103   \n",
       "4                         A72                   A92                     A101   \n",
       "\n",
       "  Property Other_Inst_Plans  Housing   Job Telephone Foreign_Worker  \n",
       "0     A121              A143    A151  A173      A191           A201  \n",
       "1     A121              A143    A152  A172      A192           A201  \n",
       "2     A121              A143    A152  A173      A191           A201  \n",
       "3     A121              A143    A152  A173      A192           A201  \n",
       "4     A122              A143    A152  A173      A191           A201  "
      ]
     },
     "execution_count": 199,
     "metadata": {},
     "output_type": "execute_result"
    }
   ],
   "source": [
    "x_catg.head()"
   ]
  },
  {
   "cell_type": "code",
   "execution_count": 200,
   "metadata": {},
   "outputs": [
    {
     "data": {
      "text/plain": [
       "(40119, 13)"
      ]
     },
     "execution_count": 200,
     "metadata": {},
     "output_type": "execute_result"
    }
   ],
   "source": [
    "x_catg.shape"
   ]
  },
  {
   "cell_type": "code",
   "execution_count": 201,
   "metadata": {},
   "outputs": [],
   "source": [
    "x_num=df1.loc[:,('Duration_in_Months','Inst_Rt_Income','Current_Address_Yrs',\n",
    "                    'Age','Num_CC','Dependents')]"
   ]
  },
  {
   "cell_type": "code",
   "execution_count": 202,
   "metadata": {},
   "outputs": [
    {
     "data": {
      "text/html": [
       "<div>\n",
       "<style scoped>\n",
       "    .dataframe tbody tr th:only-of-type {\n",
       "        vertical-align: middle;\n",
       "    }\n",
       "\n",
       "    .dataframe tbody tr th {\n",
       "        vertical-align: top;\n",
       "    }\n",
       "\n",
       "    .dataframe thead th {\n",
       "        text-align: right;\n",
       "    }\n",
       "</style>\n",
       "<table border=\"1\" class=\"dataframe\">\n",
       "  <thead>\n",
       "    <tr style=\"text-align: right;\">\n",
       "      <th></th>\n",
       "      <th>Duration_in_Months</th>\n",
       "      <th>Inst_Rt_Income</th>\n",
       "      <th>Current_Address_Yrs</th>\n",
       "      <th>Age</th>\n",
       "      <th>Num_CC</th>\n",
       "      <th>Dependents</th>\n",
       "    </tr>\n",
       "  </thead>\n",
       "  <tbody>\n",
       "    <tr>\n",
       "      <th>0</th>\n",
       "      <td>27</td>\n",
       "      <td>3.0</td>\n",
       "      <td>3.0</td>\n",
       "      <td>21.0</td>\n",
       "      <td>1.0</td>\n",
       "      <td>1.0</td>\n",
       "    </tr>\n",
       "    <tr>\n",
       "      <th>1</th>\n",
       "      <td>12</td>\n",
       "      <td>4.0</td>\n",
       "      <td>3.0</td>\n",
       "      <td>58.0</td>\n",
       "      <td>4.0</td>\n",
       "      <td>1.0</td>\n",
       "    </tr>\n",
       "    <tr>\n",
       "      <th>2</th>\n",
       "      <td>13</td>\n",
       "      <td>4.0</td>\n",
       "      <td>4.0</td>\n",
       "      <td>23.0</td>\n",
       "      <td>2.0</td>\n",
       "      <td>1.0</td>\n",
       "    </tr>\n",
       "    <tr>\n",
       "      <th>3</th>\n",
       "      <td>24</td>\n",
       "      <td>2.0</td>\n",
       "      <td>2.0</td>\n",
       "      <td>31.0</td>\n",
       "      <td>1.0</td>\n",
       "      <td>1.0</td>\n",
       "    </tr>\n",
       "    <tr>\n",
       "      <th>4</th>\n",
       "      <td>24</td>\n",
       "      <td>4.0</td>\n",
       "      <td>1.0</td>\n",
       "      <td>27.0</td>\n",
       "      <td>1.0</td>\n",
       "      <td>1.0</td>\n",
       "    </tr>\n",
       "  </tbody>\n",
       "</table>\n",
       "</div>"
      ],
      "text/plain": [
       "  Duration_in_Months  Inst_Rt_Income  Current_Address_Yrs   Age  Num_CC  \\\n",
       "0                 27             3.0                  3.0  21.0     1.0   \n",
       "1                 12             4.0                  3.0  58.0     4.0   \n",
       "2                 13             4.0                  4.0  23.0     2.0   \n",
       "3                 24             2.0                  2.0  31.0     1.0   \n",
       "4                 24             4.0                  1.0  27.0     1.0   \n",
       "\n",
       "   Dependents  \n",
       "0         1.0  \n",
       "1         1.0  \n",
       "2         1.0  \n",
       "3         1.0  \n",
       "4         1.0  "
      ]
     },
     "execution_count": 202,
     "metadata": {},
     "output_type": "execute_result"
    }
   ],
   "source": [
    "x_num.head()"
   ]
  },
  {
   "cell_type": "code",
   "execution_count": 203,
   "metadata": {},
   "outputs": [
    {
     "data": {
      "text/html": [
       "<div>\n",
       "<style scoped>\n",
       "    .dataframe tbody tr th:only-of-type {\n",
       "        vertical-align: middle;\n",
       "    }\n",
       "\n",
       "    .dataframe tbody tr th {\n",
       "        vertical-align: top;\n",
       "    }\n",
       "\n",
       "    .dataframe thead th {\n",
       "        text-align: right;\n",
       "    }\n",
       "</style>\n",
       "<table border=\"1\" class=\"dataframe\">\n",
       "  <thead>\n",
       "    <tr style=\"text-align: right;\">\n",
       "      <th></th>\n",
       "      <th>Status_Checking_Acc_A11</th>\n",
       "      <th>Status_Checking_Acc_A12</th>\n",
       "      <th>Status_Checking_Acc_A13</th>\n",
       "      <th>Status_Checking_Acc_A14</th>\n",
       "      <th>Credit_History_A30</th>\n",
       "      <th>Credit_History_A31</th>\n",
       "      <th>Credit_History_A32</th>\n",
       "      <th>Credit_History_A33</th>\n",
       "      <th>Credit_History_A34</th>\n",
       "      <th>Purposre_Credit_Taken_A40</th>\n",
       "      <th>...</th>\n",
       "      <th>Housing_A152</th>\n",
       "      <th>Housing_A153</th>\n",
       "      <th>Job_A171</th>\n",
       "      <th>Job_A172</th>\n",
       "      <th>Job_A173</th>\n",
       "      <th>Job_A174</th>\n",
       "      <th>Telephone_A191</th>\n",
       "      <th>Telephone_A192</th>\n",
       "      <th>Foreign_Worker_A201</th>\n",
       "      <th>Foreign_Worker_A202</th>\n",
       "    </tr>\n",
       "  </thead>\n",
       "  <tbody>\n",
       "    <tr>\n",
       "      <th>0</th>\n",
       "      <td>0</td>\n",
       "      <td>0</td>\n",
       "      <td>0</td>\n",
       "      <td>1</td>\n",
       "      <td>0</td>\n",
       "      <td>0</td>\n",
       "      <td>1</td>\n",
       "      <td>0</td>\n",
       "      <td>0</td>\n",
       "      <td>1</td>\n",
       "      <td>...</td>\n",
       "      <td>0</td>\n",
       "      <td>0</td>\n",
       "      <td>0</td>\n",
       "      <td>0</td>\n",
       "      <td>1</td>\n",
       "      <td>0</td>\n",
       "      <td>1</td>\n",
       "      <td>0</td>\n",
       "      <td>1</td>\n",
       "      <td>0</td>\n",
       "    </tr>\n",
       "    <tr>\n",
       "      <th>1</th>\n",
       "      <td>1</td>\n",
       "      <td>0</td>\n",
       "      <td>0</td>\n",
       "      <td>0</td>\n",
       "      <td>0</td>\n",
       "      <td>0</td>\n",
       "      <td>0</td>\n",
       "      <td>0</td>\n",
       "      <td>1</td>\n",
       "      <td>0</td>\n",
       "      <td>...</td>\n",
       "      <td>1</td>\n",
       "      <td>0</td>\n",
       "      <td>0</td>\n",
       "      <td>1</td>\n",
       "      <td>0</td>\n",
       "      <td>0</td>\n",
       "      <td>0</td>\n",
       "      <td>1</td>\n",
       "      <td>1</td>\n",
       "      <td>0</td>\n",
       "    </tr>\n",
       "    <tr>\n",
       "      <th>2</th>\n",
       "      <td>0</td>\n",
       "      <td>1</td>\n",
       "      <td>0</td>\n",
       "      <td>0</td>\n",
       "      <td>0</td>\n",
       "      <td>0</td>\n",
       "      <td>0</td>\n",
       "      <td>0</td>\n",
       "      <td>1</td>\n",
       "      <td>0</td>\n",
       "      <td>...</td>\n",
       "      <td>1</td>\n",
       "      <td>0</td>\n",
       "      <td>0</td>\n",
       "      <td>0</td>\n",
       "      <td>1</td>\n",
       "      <td>0</td>\n",
       "      <td>1</td>\n",
       "      <td>0</td>\n",
       "      <td>1</td>\n",
       "      <td>0</td>\n",
       "    </tr>\n",
       "    <tr>\n",
       "      <th>3</th>\n",
       "      <td>0</td>\n",
       "      <td>0</td>\n",
       "      <td>0</td>\n",
       "      <td>1</td>\n",
       "      <td>0</td>\n",
       "      <td>0</td>\n",
       "      <td>1</td>\n",
       "      <td>0</td>\n",
       "      <td>0</td>\n",
       "      <td>1</td>\n",
       "      <td>...</td>\n",
       "      <td>1</td>\n",
       "      <td>0</td>\n",
       "      <td>0</td>\n",
       "      <td>0</td>\n",
       "      <td>1</td>\n",
       "      <td>0</td>\n",
       "      <td>0</td>\n",
       "      <td>1</td>\n",
       "      <td>1</td>\n",
       "      <td>0</td>\n",
       "    </tr>\n",
       "    <tr>\n",
       "      <th>4</th>\n",
       "      <td>1</td>\n",
       "      <td>0</td>\n",
       "      <td>0</td>\n",
       "      <td>0</td>\n",
       "      <td>0</td>\n",
       "      <td>0</td>\n",
       "      <td>1</td>\n",
       "      <td>0</td>\n",
       "      <td>0</td>\n",
       "      <td>1</td>\n",
       "      <td>...</td>\n",
       "      <td>1</td>\n",
       "      <td>0</td>\n",
       "      <td>0</td>\n",
       "      <td>0</td>\n",
       "      <td>1</td>\n",
       "      <td>0</td>\n",
       "      <td>1</td>\n",
       "      <td>0</td>\n",
       "      <td>1</td>\n",
       "      <td>0</td>\n",
       "    </tr>\n",
       "  </tbody>\n",
       "</table>\n",
       "<p>5 rows × 54 columns</p>\n",
       "</div>"
      ],
      "text/plain": [
       "   Status_Checking_Acc_A11  Status_Checking_Acc_A12  Status_Checking_Acc_A13  \\\n",
       "0                        0                        0                        0   \n",
       "1                        1                        0                        0   \n",
       "2                        0                        1                        0   \n",
       "3                        0                        0                        0   \n",
       "4                        1                        0                        0   \n",
       "\n",
       "   Status_Checking_Acc_A14  Credit_History_A30  Credit_History_A31  \\\n",
       "0                        1                   0                   0   \n",
       "1                        0                   0                   0   \n",
       "2                        0                   0                   0   \n",
       "3                        1                   0                   0   \n",
       "4                        0                   0                   0   \n",
       "\n",
       "   Credit_History_A32  Credit_History_A33  Credit_History_A34  \\\n",
       "0                   1                   0                   0   \n",
       "1                   0                   0                   1   \n",
       "2                   0                   0                   1   \n",
       "3                   1                   0                   0   \n",
       "4                   1                   0                   0   \n",
       "\n",
       "   Purposre_Credit_Taken_A40         ...           Housing_A152  Housing_A153  \\\n",
       "0                          1         ...                      0             0   \n",
       "1                          0         ...                      1             0   \n",
       "2                          0         ...                      1             0   \n",
       "3                          1         ...                      1             0   \n",
       "4                          1         ...                      1             0   \n",
       "\n",
       "   Job_A171  Job_A172  Job_A173  Job_A174  Telephone_A191  Telephone_A192  \\\n",
       "0         0         0         1         0               1               0   \n",
       "1         0         1         0         0               0               1   \n",
       "2         0         0         1         0               1               0   \n",
       "3         0         0         1         0               0               1   \n",
       "4         0         0         1         0               1               0   \n",
       "\n",
       "   Foreign_Worker_A201  Foreign_Worker_A202  \n",
       "0                    1                    0  \n",
       "1                    1                    0  \n",
       "2                    1                    0  \n",
       "3                    1                    0  \n",
       "4                    1                    0  \n",
       "\n",
       "[5 rows x 54 columns]"
      ]
     },
     "execution_count": 203,
     "metadata": {},
     "output_type": "execute_result"
    }
   ],
   "source": [
    "x_num1=pd.get_dummies(x_catg)\n",
    "x_num1.head()"
   ]
  },
  {
   "cell_type": "code",
   "execution_count": 204,
   "metadata": {},
   "outputs": [
    {
     "data": {
      "text/plain": [
       "0    1\n",
       "1    0\n",
       "2    0\n",
       "3    0\n",
       "4    1\n",
       "Name: Y, dtype: int64"
      ]
     },
     "execution_count": 204,
     "metadata": {},
     "output_type": "execute_result"
    }
   ],
   "source": [
    "y=df1['Y']\n",
    "y.head()"
   ]
  },
  {
   "cell_type": "code",
   "execution_count": 205,
   "metadata": {},
   "outputs": [],
   "source": [
    "x_num1=pd.get_dummies(x_catg)"
   ]
  },
  {
   "cell_type": "code",
   "execution_count": 206,
   "metadata": {},
   "outputs": [
    {
     "data": {
      "text/html": [
       "<div>\n",
       "<style scoped>\n",
       "    .dataframe tbody tr th:only-of-type {\n",
       "        vertical-align: middle;\n",
       "    }\n",
       "\n",
       "    .dataframe tbody tr th {\n",
       "        vertical-align: top;\n",
       "    }\n",
       "\n",
       "    .dataframe thead th {\n",
       "        text-align: right;\n",
       "    }\n",
       "</style>\n",
       "<table border=\"1\" class=\"dataframe\">\n",
       "  <thead>\n",
       "    <tr style=\"text-align: right;\">\n",
       "      <th></th>\n",
       "      <th>Status_Checking_Acc_A11</th>\n",
       "      <th>Status_Checking_Acc_A12</th>\n",
       "      <th>Status_Checking_Acc_A13</th>\n",
       "      <th>Status_Checking_Acc_A14</th>\n",
       "      <th>Credit_History_A30</th>\n",
       "      <th>Credit_History_A31</th>\n",
       "      <th>Credit_History_A32</th>\n",
       "      <th>Credit_History_A33</th>\n",
       "      <th>Credit_History_A34</th>\n",
       "      <th>Purposre_Credit_Taken_A40</th>\n",
       "      <th>...</th>\n",
       "      <th>Telephone_A191</th>\n",
       "      <th>Telephone_A192</th>\n",
       "      <th>Foreign_Worker_A201</th>\n",
       "      <th>Foreign_Worker_A202</th>\n",
       "      <th>Duration_in_Months</th>\n",
       "      <th>Inst_Rt_Income</th>\n",
       "      <th>Current_Address_Yrs</th>\n",
       "      <th>Age</th>\n",
       "      <th>Num_CC</th>\n",
       "      <th>Dependents</th>\n",
       "    </tr>\n",
       "  </thead>\n",
       "  <tbody>\n",
       "    <tr>\n",
       "      <th>0</th>\n",
       "      <td>0</td>\n",
       "      <td>0</td>\n",
       "      <td>0</td>\n",
       "      <td>1</td>\n",
       "      <td>0</td>\n",
       "      <td>0</td>\n",
       "      <td>1</td>\n",
       "      <td>0</td>\n",
       "      <td>0</td>\n",
       "      <td>1</td>\n",
       "      <td>...</td>\n",
       "      <td>1</td>\n",
       "      <td>0</td>\n",
       "      <td>1</td>\n",
       "      <td>0</td>\n",
       "      <td>27</td>\n",
       "      <td>3.0</td>\n",
       "      <td>3.0</td>\n",
       "      <td>21.0</td>\n",
       "      <td>1.0</td>\n",
       "      <td>1.0</td>\n",
       "    </tr>\n",
       "    <tr>\n",
       "      <th>1</th>\n",
       "      <td>1</td>\n",
       "      <td>0</td>\n",
       "      <td>0</td>\n",
       "      <td>0</td>\n",
       "      <td>0</td>\n",
       "      <td>0</td>\n",
       "      <td>0</td>\n",
       "      <td>0</td>\n",
       "      <td>1</td>\n",
       "      <td>0</td>\n",
       "      <td>...</td>\n",
       "      <td>0</td>\n",
       "      <td>1</td>\n",
       "      <td>1</td>\n",
       "      <td>0</td>\n",
       "      <td>12</td>\n",
       "      <td>4.0</td>\n",
       "      <td>3.0</td>\n",
       "      <td>58.0</td>\n",
       "      <td>4.0</td>\n",
       "      <td>1.0</td>\n",
       "    </tr>\n",
       "    <tr>\n",
       "      <th>2</th>\n",
       "      <td>0</td>\n",
       "      <td>1</td>\n",
       "      <td>0</td>\n",
       "      <td>0</td>\n",
       "      <td>0</td>\n",
       "      <td>0</td>\n",
       "      <td>0</td>\n",
       "      <td>0</td>\n",
       "      <td>1</td>\n",
       "      <td>0</td>\n",
       "      <td>...</td>\n",
       "      <td>1</td>\n",
       "      <td>0</td>\n",
       "      <td>1</td>\n",
       "      <td>0</td>\n",
       "      <td>13</td>\n",
       "      <td>4.0</td>\n",
       "      <td>4.0</td>\n",
       "      <td>23.0</td>\n",
       "      <td>2.0</td>\n",
       "      <td>1.0</td>\n",
       "    </tr>\n",
       "    <tr>\n",
       "      <th>3</th>\n",
       "      <td>0</td>\n",
       "      <td>0</td>\n",
       "      <td>0</td>\n",
       "      <td>1</td>\n",
       "      <td>0</td>\n",
       "      <td>0</td>\n",
       "      <td>1</td>\n",
       "      <td>0</td>\n",
       "      <td>0</td>\n",
       "      <td>1</td>\n",
       "      <td>...</td>\n",
       "      <td>0</td>\n",
       "      <td>1</td>\n",
       "      <td>1</td>\n",
       "      <td>0</td>\n",
       "      <td>24</td>\n",
       "      <td>2.0</td>\n",
       "      <td>2.0</td>\n",
       "      <td>31.0</td>\n",
       "      <td>1.0</td>\n",
       "      <td>1.0</td>\n",
       "    </tr>\n",
       "    <tr>\n",
       "      <th>4</th>\n",
       "      <td>1</td>\n",
       "      <td>0</td>\n",
       "      <td>0</td>\n",
       "      <td>0</td>\n",
       "      <td>0</td>\n",
       "      <td>0</td>\n",
       "      <td>1</td>\n",
       "      <td>0</td>\n",
       "      <td>0</td>\n",
       "      <td>1</td>\n",
       "      <td>...</td>\n",
       "      <td>1</td>\n",
       "      <td>0</td>\n",
       "      <td>1</td>\n",
       "      <td>0</td>\n",
       "      <td>24</td>\n",
       "      <td>4.0</td>\n",
       "      <td>1.0</td>\n",
       "      <td>27.0</td>\n",
       "      <td>1.0</td>\n",
       "      <td>1.0</td>\n",
       "    </tr>\n",
       "  </tbody>\n",
       "</table>\n",
       "<p>5 rows × 60 columns</p>\n",
       "</div>"
      ],
      "text/plain": [
       "   Status_Checking_Acc_A11  Status_Checking_Acc_A12  Status_Checking_Acc_A13  \\\n",
       "0                        0                        0                        0   \n",
       "1                        1                        0                        0   \n",
       "2                        0                        1                        0   \n",
       "3                        0                        0                        0   \n",
       "4                        1                        0                        0   \n",
       "\n",
       "   Status_Checking_Acc_A14  Credit_History_A30  Credit_History_A31  \\\n",
       "0                        1                   0                   0   \n",
       "1                        0                   0                   0   \n",
       "2                        0                   0                   0   \n",
       "3                        1                   0                   0   \n",
       "4                        0                   0                   0   \n",
       "\n",
       "   Credit_History_A32  Credit_History_A33  Credit_History_A34  \\\n",
       "0                   1                   0                   0   \n",
       "1                   0                   0                   1   \n",
       "2                   0                   0                   1   \n",
       "3                   1                   0                   0   \n",
       "4                   1                   0                   0   \n",
       "\n",
       "   Purposre_Credit_Taken_A40     ...      Telephone_A191  Telephone_A192  \\\n",
       "0                          1     ...                   1               0   \n",
       "1                          0     ...                   0               1   \n",
       "2                          0     ...                   1               0   \n",
       "3                          1     ...                   0               1   \n",
       "4                          1     ...                   1               0   \n",
       "\n",
       "   Foreign_Worker_A201  Foreign_Worker_A202  Duration_in_Months  \\\n",
       "0                    1                    0                  27   \n",
       "1                    1                    0                  12   \n",
       "2                    1                    0                  13   \n",
       "3                    1                    0                  24   \n",
       "4                    1                    0                  24   \n",
       "\n",
       "   Inst_Rt_Income  Current_Address_Yrs   Age  Num_CC  Dependents  \n",
       "0             3.0                  3.0  21.0     1.0         1.0  \n",
       "1             4.0                  3.0  58.0     4.0         1.0  \n",
       "2             4.0                  4.0  23.0     2.0         1.0  \n",
       "3             2.0                  2.0  31.0     1.0         1.0  \n",
       "4             4.0                  1.0  27.0     1.0         1.0  \n",
       "\n",
       "[5 rows x 60 columns]"
      ]
     },
     "execution_count": 206,
     "metadata": {},
     "output_type": "execute_result"
    }
   ],
   "source": [
    "x.head()"
   ]
  },
  {
   "cell_type": "code",
   "execution_count": 207,
   "metadata": {},
   "outputs": [
    {
     "name": "stdout",
     "output_type": "stream",
     "text": [
      "<class 'pandas.core.frame.DataFrame'>\n",
      "Int64Index: 40119 entries, 0 to 40119\n",
      "Data columns (total 60 columns):\n",
      "Status_Checking_Acc_A11            40119 non-null uint8\n",
      "Status_Checking_Acc_A12            40119 non-null uint8\n",
      "Status_Checking_Acc_A13            40119 non-null uint8\n",
      "Status_Checking_Acc_A14            40119 non-null uint8\n",
      "Credit_History_A30                 40119 non-null uint8\n",
      "Credit_History_A31                 40119 non-null uint8\n",
      "Credit_History_A32                 40119 non-null uint8\n",
      "Credit_History_A33                 40119 non-null uint8\n",
      "Credit_History_A34                 40119 non-null uint8\n",
      "Purposre_Credit_Taken_A40          40119 non-null uint8\n",
      "Purposre_Credit_Taken_A41          40119 non-null uint8\n",
      "Purposre_Credit_Taken_A410         40119 non-null uint8\n",
      "Purposre_Credit_Taken_A42          40119 non-null uint8\n",
      "Purposre_Credit_Taken_A43          40119 non-null uint8\n",
      "Purposre_Credit_Taken_A44          40119 non-null uint8\n",
      "Purposre_Credit_Taken_A45          40119 non-null uint8\n",
      "Purposre_Credit_Taken_A46          40119 non-null uint8\n",
      "Purposre_Credit_Taken_A48          40119 non-null uint8\n",
      "Purposre_Credit_Taken_A49          40119 non-null uint8\n",
      "Savings_Acc_A61                    40119 non-null uint8\n",
      "Savings_Acc_A62                    40119 non-null uint8\n",
      "Savings_Acc_A63                    40119 non-null uint8\n",
      "Savings_Acc_A64                    40119 non-null uint8\n",
      "Savings_Acc_A65                    40119 non-null uint8\n",
      "Years_At_Present_Employment_A71    40119 non-null uint8\n",
      "Years_At_Present_Employment_A72    40119 non-null uint8\n",
      "Years_At_Present_Employment_A73    40119 non-null uint8\n",
      "Years_At_Present_Employment_A74    40119 non-null uint8\n",
      "Years_At_Present_Employment_A75    40119 non-null uint8\n",
      "Marital_Status_Gender_A91          40119 non-null uint8\n",
      "Marital_Status_Gender_A92          40119 non-null uint8\n",
      "Marital_Status_Gender_A93          40119 non-null uint8\n",
      "Marital_Status_Gender_A94          40119 non-null uint8\n",
      "Other_Debtors_Guarantors_A101      40119 non-null uint8\n",
      "Other_Debtors_Guarantors_A102      40119 non-null uint8\n",
      "Other_Debtors_Guarantors_A103      40119 non-null uint8\n",
      "Property_A121                      40119 non-null uint8\n",
      "Property_A122                      40119 non-null uint8\n",
      "Property_A123                      40119 non-null uint8\n",
      "Property_A124                      40119 non-null uint8\n",
      "Other_Inst_Plans _A141             40119 non-null uint8\n",
      "Other_Inst_Plans _A142             40119 non-null uint8\n",
      "Other_Inst_Plans _A143             40119 non-null uint8\n",
      "Housing_A151                       40119 non-null uint8\n",
      "Housing_A152                       40119 non-null uint8\n",
      "Housing_A153                       40119 non-null uint8\n",
      "Job_A171                           40119 non-null uint8\n",
      "Job_A172                           40119 non-null uint8\n",
      "Job_A173                           40119 non-null uint8\n",
      "Job_A174                           40119 non-null uint8\n",
      "Telephone_A191                     40119 non-null uint8\n",
      "Telephone_A192                     40119 non-null uint8\n",
      "Foreign_Worker_A201                40119 non-null uint8\n",
      "Foreign_Worker_A202                40119 non-null uint8\n",
      "Duration_in_Months                 40119 non-null object\n",
      "Inst_Rt_Income                     40119 non-null float64\n",
      "Current_Address_Yrs                40119 non-null float64\n",
      "Age                                40119 non-null float64\n",
      "Num_CC                             40119 non-null float64\n",
      "Dependents                         40119 non-null float64\n",
      "dtypes: float64(5), object(1), uint8(54)\n",
      "memory usage: 4.2+ MB\n"
     ]
    }
   ],
   "source": [
    "x.info()"
   ]
  },
  {
   "cell_type": "code",
   "execution_count": 208,
   "metadata": {},
   "outputs": [
    {
     "data": {
      "text/plain": [
       "(30089, 60)"
      ]
     },
     "execution_count": 208,
     "metadata": {},
     "output_type": "execute_result"
    },
    {
     "data": {
      "text/plain": [
       "(10030, 60)"
      ]
     },
     "execution_count": 208,
     "metadata": {},
     "output_type": "execute_result"
    },
    {
     "data": {
      "text/plain": [
       "(30089,)"
      ]
     },
     "execution_count": 208,
     "metadata": {},
     "output_type": "execute_result"
    },
    {
     "data": {
      "text/plain": [
       "(10030,)"
      ]
     },
     "execution_count": 208,
     "metadata": {},
     "output_type": "execute_result"
    },
    {
     "data": {
      "text/plain": [
       "pandas.core.frame.DataFrame"
      ]
     },
     "execution_count": 208,
     "metadata": {},
     "output_type": "execute_result"
    }
   ],
   "source": [
    "train_x,test_x,train_y,test_y=train_test_split(x,y,test_size=0.25,random_state=1)\n",
    "train_x.shape\n",
    "test_x.shape\n",
    "train_y.shape\n",
    "test_y.shape\n",
    "type(train_x)"
   ]
  },
  {
   "cell_type": "code",
   "execution_count": 209,
   "metadata": {},
   "outputs": [],
   "source": [
    "from sklearn.linear_model import LogisticRegression\n",
    "log=LogisticRegression()"
   ]
  },
  {
   "cell_type": "code",
   "execution_count": 210,
   "metadata": {},
   "outputs": [
    {
     "data": {
      "text/plain": [
       "LogisticRegression(C=1.0, class_weight=None, dual=False, fit_intercept=True,\n",
       "          intercept_scaling=1, max_iter=100, multi_class='ovr', n_jobs=1,\n",
       "          penalty='l2', random_state=None, solver='liblinear', tol=0.0001,\n",
       "          verbose=0, warm_start=False)"
      ]
     },
     "execution_count": 210,
     "metadata": {},
     "output_type": "execute_result"
    }
   ],
   "source": [
    "log.fit(train_x,train_y)"
   ]
  },
  {
   "cell_type": "code",
   "execution_count": 211,
   "metadata": {},
   "outputs": [
    {
     "data": {
      "text/plain": [
       "array([[ 0.55869222,  0.22603072, -0.37887355, -1.11524134,  0.4314042 ,\n",
       "         0.54713409, -0.18520621, -0.4463724 , -1.05635164,  0.68700663,\n",
       "        -0.73691205, -0.50509666, -0.05130533, -0.22696485,  0.12485223,\n",
       "         0.51511226,  0.70426911, -1.19431746, -0.02603583,  0.43628325,\n",
       "         0.05341202,  0.09652419, -0.86374814, -0.43186327,  0.15105987,\n",
       "         0.06271882, -0.06662436, -0.67746883, -0.17907746,  0.15472943,\n",
       "        -0.11123477, -0.56210074, -0.19078587, -0.098852  ,  0.45177721,\n",
       "        -1.06231716, -0.54857178, -0.22342048, -0.27234754,  0.33494784,\n",
       "        -0.01536713, -0.09267094, -0.60135389,  0.15355315, -0.28043939,\n",
       "        -0.58250572, -0.57306479, -0.05252527, -0.08228114, -0.00152075,\n",
       "        -0.25483681, -0.45455515,  0.2627057 , -0.97209766,  0.04095197,\n",
       "         0.23217415, -0.00568636, -0.01240785,  0.30233708,  0.1994204 ]])"
      ]
     },
     "execution_count": 211,
     "metadata": {},
     "output_type": "execute_result"
    }
   ],
   "source": [
    "log.coef_"
   ]
  },
  {
   "cell_type": "code",
   "execution_count": null,
   "metadata": {},
   "outputs": [],
   "source": []
  },
  {
   "cell_type": "code",
   "execution_count": 212,
   "metadata": {},
   "outputs": [],
   "source": [
    "coeff=pd.concat([pd.DataFrame(x.columns),pd.DataFrame(np.transpose(log.coef_))],axis=1)"
   ]
  },
  {
   "cell_type": "code",
   "execution_count": 213,
   "metadata": {},
   "outputs": [],
   "source": [
    "coeff.columns=('Variable','Coeff')"
   ]
  },
  {
   "cell_type": "code",
   "execution_count": 214,
   "metadata": {},
   "outputs": [
    {
     "data": {
      "text/html": [
       "<div>\n",
       "<style scoped>\n",
       "    .dataframe tbody tr th:only-of-type {\n",
       "        vertical-align: middle;\n",
       "    }\n",
       "\n",
       "    .dataframe tbody tr th {\n",
       "        vertical-align: top;\n",
       "    }\n",
       "\n",
       "    .dataframe thead th {\n",
       "        text-align: right;\n",
       "    }\n",
       "</style>\n",
       "<table border=\"1\" class=\"dataframe\">\n",
       "  <thead>\n",
       "    <tr style=\"text-align: right;\">\n",
       "      <th></th>\n",
       "      <th>Variable</th>\n",
       "      <th>Coeff</th>\n",
       "    </tr>\n",
       "  </thead>\n",
       "  <tbody>\n",
       "    <tr>\n",
       "      <th>57</th>\n",
       "      <td>Age</td>\n",
       "      <td>-0.012408</td>\n",
       "    </tr>\n",
       "    <tr>\n",
       "      <th>4</th>\n",
       "      <td>Credit_History_A30</td>\n",
       "      <td>0.431404</td>\n",
       "    </tr>\n",
       "    <tr>\n",
       "      <th>5</th>\n",
       "      <td>Credit_History_A31</td>\n",
       "      <td>0.547134</td>\n",
       "    </tr>\n",
       "    <tr>\n",
       "      <th>6</th>\n",
       "      <td>Credit_History_A32</td>\n",
       "      <td>-0.185206</td>\n",
       "    </tr>\n",
       "    <tr>\n",
       "      <th>7</th>\n",
       "      <td>Credit_History_A33</td>\n",
       "      <td>-0.446372</td>\n",
       "    </tr>\n",
       "    <tr>\n",
       "      <th>8</th>\n",
       "      <td>Credit_History_A34</td>\n",
       "      <td>-1.056352</td>\n",
       "    </tr>\n",
       "    <tr>\n",
       "      <th>56</th>\n",
       "      <td>Current_Address_Yrs</td>\n",
       "      <td>-0.005686</td>\n",
       "    </tr>\n",
       "    <tr>\n",
       "      <th>59</th>\n",
       "      <td>Dependents</td>\n",
       "      <td>0.199420</td>\n",
       "    </tr>\n",
       "    <tr>\n",
       "      <th>54</th>\n",
       "      <td>Duration_in_Months</td>\n",
       "      <td>0.040952</td>\n",
       "    </tr>\n",
       "    <tr>\n",
       "      <th>52</th>\n",
       "      <td>Foreign_Worker_A201</td>\n",
       "      <td>0.262706</td>\n",
       "    </tr>\n",
       "    <tr>\n",
       "      <th>53</th>\n",
       "      <td>Foreign_Worker_A202</td>\n",
       "      <td>-0.972098</td>\n",
       "    </tr>\n",
       "    <tr>\n",
       "      <th>43</th>\n",
       "      <td>Housing_A151</td>\n",
       "      <td>0.153553</td>\n",
       "    </tr>\n",
       "    <tr>\n",
       "      <th>44</th>\n",
       "      <td>Housing_A152</td>\n",
       "      <td>-0.280439</td>\n",
       "    </tr>\n",
       "    <tr>\n",
       "      <th>45</th>\n",
       "      <td>Housing_A153</td>\n",
       "      <td>-0.582506</td>\n",
       "    </tr>\n",
       "    <tr>\n",
       "      <th>55</th>\n",
       "      <td>Inst_Rt_Income</td>\n",
       "      <td>0.232174</td>\n",
       "    </tr>\n",
       "    <tr>\n",
       "      <th>46</th>\n",
       "      <td>Job_A171</td>\n",
       "      <td>-0.573065</td>\n",
       "    </tr>\n",
       "    <tr>\n",
       "      <th>47</th>\n",
       "      <td>Job_A172</td>\n",
       "      <td>-0.052525</td>\n",
       "    </tr>\n",
       "    <tr>\n",
       "      <th>48</th>\n",
       "      <td>Job_A173</td>\n",
       "      <td>-0.082281</td>\n",
       "    </tr>\n",
       "    <tr>\n",
       "      <th>49</th>\n",
       "      <td>Job_A174</td>\n",
       "      <td>-0.001521</td>\n",
       "    </tr>\n",
       "    <tr>\n",
       "      <th>29</th>\n",
       "      <td>Marital_Status_Gender_A91</td>\n",
       "      <td>0.154729</td>\n",
       "    </tr>\n",
       "    <tr>\n",
       "      <th>30</th>\n",
       "      <td>Marital_Status_Gender_A92</td>\n",
       "      <td>-0.111235</td>\n",
       "    </tr>\n",
       "    <tr>\n",
       "      <th>31</th>\n",
       "      <td>Marital_Status_Gender_A93</td>\n",
       "      <td>-0.562101</td>\n",
       "    </tr>\n",
       "    <tr>\n",
       "      <th>32</th>\n",
       "      <td>Marital_Status_Gender_A94</td>\n",
       "      <td>-0.190786</td>\n",
       "    </tr>\n",
       "    <tr>\n",
       "      <th>58</th>\n",
       "      <td>Num_CC</td>\n",
       "      <td>0.302337</td>\n",
       "    </tr>\n",
       "    <tr>\n",
       "      <th>33</th>\n",
       "      <td>Other_Debtors_Guarantors_A101</td>\n",
       "      <td>-0.098852</td>\n",
       "    </tr>\n",
       "    <tr>\n",
       "      <th>34</th>\n",
       "      <td>Other_Debtors_Guarantors_A102</td>\n",
       "      <td>0.451777</td>\n",
       "    </tr>\n",
       "    <tr>\n",
       "      <th>35</th>\n",
       "      <td>Other_Debtors_Guarantors_A103</td>\n",
       "      <td>-1.062317</td>\n",
       "    </tr>\n",
       "    <tr>\n",
       "      <th>40</th>\n",
       "      <td>Other_Inst_Plans _A141</td>\n",
       "      <td>-0.015367</td>\n",
       "    </tr>\n",
       "    <tr>\n",
       "      <th>41</th>\n",
       "      <td>Other_Inst_Plans _A142</td>\n",
       "      <td>-0.092671</td>\n",
       "    </tr>\n",
       "    <tr>\n",
       "      <th>42</th>\n",
       "      <td>Other_Inst_Plans _A143</td>\n",
       "      <td>-0.601354</td>\n",
       "    </tr>\n",
       "    <tr>\n",
       "      <th>36</th>\n",
       "      <td>Property_A121</td>\n",
       "      <td>-0.548572</td>\n",
       "    </tr>\n",
       "    <tr>\n",
       "      <th>37</th>\n",
       "      <td>Property_A122</td>\n",
       "      <td>-0.223420</td>\n",
       "    </tr>\n",
       "    <tr>\n",
       "      <th>38</th>\n",
       "      <td>Property_A123</td>\n",
       "      <td>-0.272348</td>\n",
       "    </tr>\n",
       "    <tr>\n",
       "      <th>39</th>\n",
       "      <td>Property_A124</td>\n",
       "      <td>0.334948</td>\n",
       "    </tr>\n",
       "    <tr>\n",
       "      <th>9</th>\n",
       "      <td>Purposre_Credit_Taken_A40</td>\n",
       "      <td>0.687007</td>\n",
       "    </tr>\n",
       "    <tr>\n",
       "      <th>10</th>\n",
       "      <td>Purposre_Credit_Taken_A41</td>\n",
       "      <td>-0.736912</td>\n",
       "    </tr>\n",
       "    <tr>\n",
       "      <th>11</th>\n",
       "      <td>Purposre_Credit_Taken_A410</td>\n",
       "      <td>-0.505097</td>\n",
       "    </tr>\n",
       "    <tr>\n",
       "      <th>12</th>\n",
       "      <td>Purposre_Credit_Taken_A42</td>\n",
       "      <td>-0.051305</td>\n",
       "    </tr>\n",
       "    <tr>\n",
       "      <th>13</th>\n",
       "      <td>Purposre_Credit_Taken_A43</td>\n",
       "      <td>-0.226965</td>\n",
       "    </tr>\n",
       "    <tr>\n",
       "      <th>14</th>\n",
       "      <td>Purposre_Credit_Taken_A44</td>\n",
       "      <td>0.124852</td>\n",
       "    </tr>\n",
       "    <tr>\n",
       "      <th>15</th>\n",
       "      <td>Purposre_Credit_Taken_A45</td>\n",
       "      <td>0.515112</td>\n",
       "    </tr>\n",
       "    <tr>\n",
       "      <th>16</th>\n",
       "      <td>Purposre_Credit_Taken_A46</td>\n",
       "      <td>0.704269</td>\n",
       "    </tr>\n",
       "    <tr>\n",
       "      <th>17</th>\n",
       "      <td>Purposre_Credit_Taken_A48</td>\n",
       "      <td>-1.194317</td>\n",
       "    </tr>\n",
       "    <tr>\n",
       "      <th>18</th>\n",
       "      <td>Purposre_Credit_Taken_A49</td>\n",
       "      <td>-0.026036</td>\n",
       "    </tr>\n",
       "    <tr>\n",
       "      <th>19</th>\n",
       "      <td>Savings_Acc_A61</td>\n",
       "      <td>0.436283</td>\n",
       "    </tr>\n",
       "    <tr>\n",
       "      <th>20</th>\n",
       "      <td>Savings_Acc_A62</td>\n",
       "      <td>0.053412</td>\n",
       "    </tr>\n",
       "    <tr>\n",
       "      <th>21</th>\n",
       "      <td>Savings_Acc_A63</td>\n",
       "      <td>0.096524</td>\n",
       "    </tr>\n",
       "    <tr>\n",
       "      <th>22</th>\n",
       "      <td>Savings_Acc_A64</td>\n",
       "      <td>-0.863748</td>\n",
       "    </tr>\n",
       "    <tr>\n",
       "      <th>23</th>\n",
       "      <td>Savings_Acc_A65</td>\n",
       "      <td>-0.431863</td>\n",
       "    </tr>\n",
       "    <tr>\n",
       "      <th>0</th>\n",
       "      <td>Status_Checking_Acc_A11</td>\n",
       "      <td>0.558692</td>\n",
       "    </tr>\n",
       "    <tr>\n",
       "      <th>1</th>\n",
       "      <td>Status_Checking_Acc_A12</td>\n",
       "      <td>0.226031</td>\n",
       "    </tr>\n",
       "    <tr>\n",
       "      <th>2</th>\n",
       "      <td>Status_Checking_Acc_A13</td>\n",
       "      <td>-0.378874</td>\n",
       "    </tr>\n",
       "    <tr>\n",
       "      <th>3</th>\n",
       "      <td>Status_Checking_Acc_A14</td>\n",
       "      <td>-1.115241</td>\n",
       "    </tr>\n",
       "    <tr>\n",
       "      <th>50</th>\n",
       "      <td>Telephone_A191</td>\n",
       "      <td>-0.254837</td>\n",
       "    </tr>\n",
       "    <tr>\n",
       "      <th>51</th>\n",
       "      <td>Telephone_A192</td>\n",
       "      <td>-0.454555</td>\n",
       "    </tr>\n",
       "    <tr>\n",
       "      <th>24</th>\n",
       "      <td>Years_At_Present_Employment_A71</td>\n",
       "      <td>0.151060</td>\n",
       "    </tr>\n",
       "    <tr>\n",
       "      <th>25</th>\n",
       "      <td>Years_At_Present_Employment_A72</td>\n",
       "      <td>0.062719</td>\n",
       "    </tr>\n",
       "    <tr>\n",
       "      <th>26</th>\n",
       "      <td>Years_At_Present_Employment_A73</td>\n",
       "      <td>-0.066624</td>\n",
       "    </tr>\n",
       "    <tr>\n",
       "      <th>27</th>\n",
       "      <td>Years_At_Present_Employment_A74</td>\n",
       "      <td>-0.677469</td>\n",
       "    </tr>\n",
       "    <tr>\n",
       "      <th>28</th>\n",
       "      <td>Years_At_Present_Employment_A75</td>\n",
       "      <td>-0.179077</td>\n",
       "    </tr>\n",
       "  </tbody>\n",
       "</table>\n",
       "</div>"
      ],
      "text/plain": [
       "                           Variable     Coeff\n",
       "57                              Age -0.012408\n",
       "4                Credit_History_A30  0.431404\n",
       "5                Credit_History_A31  0.547134\n",
       "6                Credit_History_A32 -0.185206\n",
       "7                Credit_History_A33 -0.446372\n",
       "8                Credit_History_A34 -1.056352\n",
       "56              Current_Address_Yrs -0.005686\n",
       "59                       Dependents  0.199420\n",
       "54               Duration_in_Months  0.040952\n",
       "52              Foreign_Worker_A201  0.262706\n",
       "53              Foreign_Worker_A202 -0.972098\n",
       "43                     Housing_A151  0.153553\n",
       "44                     Housing_A152 -0.280439\n",
       "45                     Housing_A153 -0.582506\n",
       "55                   Inst_Rt_Income  0.232174\n",
       "46                         Job_A171 -0.573065\n",
       "47                         Job_A172 -0.052525\n",
       "48                         Job_A173 -0.082281\n",
       "49                         Job_A174 -0.001521\n",
       "29        Marital_Status_Gender_A91  0.154729\n",
       "30        Marital_Status_Gender_A92 -0.111235\n",
       "31        Marital_Status_Gender_A93 -0.562101\n",
       "32        Marital_Status_Gender_A94 -0.190786\n",
       "58                           Num_CC  0.302337\n",
       "33    Other_Debtors_Guarantors_A101 -0.098852\n",
       "34    Other_Debtors_Guarantors_A102  0.451777\n",
       "35    Other_Debtors_Guarantors_A103 -1.062317\n",
       "40           Other_Inst_Plans _A141 -0.015367\n",
       "41           Other_Inst_Plans _A142 -0.092671\n",
       "42           Other_Inst_Plans _A143 -0.601354\n",
       "36                    Property_A121 -0.548572\n",
       "37                    Property_A122 -0.223420\n",
       "38                    Property_A123 -0.272348\n",
       "39                    Property_A124  0.334948\n",
       "9         Purposre_Credit_Taken_A40  0.687007\n",
       "10        Purposre_Credit_Taken_A41 -0.736912\n",
       "11       Purposre_Credit_Taken_A410 -0.505097\n",
       "12        Purposre_Credit_Taken_A42 -0.051305\n",
       "13        Purposre_Credit_Taken_A43 -0.226965\n",
       "14        Purposre_Credit_Taken_A44  0.124852\n",
       "15        Purposre_Credit_Taken_A45  0.515112\n",
       "16        Purposre_Credit_Taken_A46  0.704269\n",
       "17        Purposre_Credit_Taken_A48 -1.194317\n",
       "18        Purposre_Credit_Taken_A49 -0.026036\n",
       "19                  Savings_Acc_A61  0.436283\n",
       "20                  Savings_Acc_A62  0.053412\n",
       "21                  Savings_Acc_A63  0.096524\n",
       "22                  Savings_Acc_A64 -0.863748\n",
       "23                  Savings_Acc_A65 -0.431863\n",
       "0           Status_Checking_Acc_A11  0.558692\n",
       "1           Status_Checking_Acc_A12  0.226031\n",
       "2           Status_Checking_Acc_A13 -0.378874\n",
       "3           Status_Checking_Acc_A14 -1.115241\n",
       "50                   Telephone_A191 -0.254837\n",
       "51                   Telephone_A192 -0.454555\n",
       "24  Years_At_Present_Employment_A71  0.151060\n",
       "25  Years_At_Present_Employment_A72  0.062719\n",
       "26  Years_At_Present_Employment_A73 -0.066624\n",
       "27  Years_At_Present_Employment_A74 -0.677469\n",
       "28  Years_At_Present_Employment_A75 -0.179077"
      ]
     },
     "execution_count": 214,
     "metadata": {},
     "output_type": "execute_result"
    }
   ],
   "source": [
    "coeff.sort_values('Variable',ascending=True)"
   ]
  },
  {
   "cell_type": "code",
   "execution_count": 215,
   "metadata": {},
   "outputs": [
    {
     "name": "stdout",
     "output_type": "stream",
     "text": [
      "10030\n",
      "Positive cases in test data 2999\n",
      "Negative cases in test data 7031\n"
     ]
    }
   ],
   "source": [
    "classes=log.predict(test_x)\n",
    "print(classes.size)\n",
    "print('Positive cases in test data',test_y[test_y==1].shape[0])\n",
    "print('Negative cases in test data',test_y[test_y==0].shape[0])"
   ]
  },
  {
   "cell_type": "code",
   "execution_count": 216,
   "metadata": {},
   "outputs": [
    {
     "name": "stdout",
     "output_type": "stream",
     "text": [
      "Accuracy score\n",
      "0.786839481555334\n",
      "Precision/Recall Metrics\n",
      "             precision    recall  f1-score   support\n",
      "\n",
      "          0       0.82      0.90      0.86      7031\n",
      "          1       0.69      0.52      0.59      2999\n",
      "\n",
      "avg / total       0.78      0.79      0.78     10030\n",
      "\n",
      "AUC\n"
     ]
    },
    {
     "data": {
      "text/plain": [
       "0.7109519130944373"
      ]
     },
     "execution_count": 216,
     "metadata": {},
     "output_type": "execute_result"
    }
   ],
   "source": [
    "print('Accuracy score')\n",
    "print(metrics.accuracy_score(test_y,classes))\n",
    "print('Precision/Recall Metrics')\n",
    "print(metrics.classification_report(test_y,classes))\n",
    "print('AUC')\n",
    "auc=metrics.roc_auc_score(test_y,classes)\n",
    "auc"
   ]
  },
  {
   "cell_type": "code",
   "execution_count": 217,
   "metadata": {},
   "outputs": [
    {
     "data": {
      "text/plain": [
       "Text(0.5,1,'ROCR CHART')"
      ]
     },
     "execution_count": 217,
     "metadata": {},
     "output_type": "execute_result"
    },
    {
     "data": {
      "text/plain": [
       "[<matplotlib.lines.Line2D at 0x1a28495940>]"
      ]
     },
     "execution_count": 217,
     "metadata": {},
     "output_type": "execute_result"
    },
    {
     "data": {
      "text/plain": [
       "<matplotlib.legend.Legend at 0x1a2957f240>"
      ]
     },
     "execution_count": 217,
     "metadata": {},
     "output_type": "execute_result"
    },
    {
     "data": {
      "text/plain": [
       "[<matplotlib.lines.Line2D at 0x1a28b13160>]"
      ]
     },
     "execution_count": 217,
     "metadata": {},
     "output_type": "execute_result"
    },
    {
     "data": {
      "text/plain": [
       "(0, 1)"
      ]
     },
     "execution_count": 217,
     "metadata": {},
     "output_type": "execute_result"
    },
    {
     "data": {
      "text/plain": [
       "(0, 1)"
      ]
     },
     "execution_count": 217,
     "metadata": {},
     "output_type": "execute_result"
    },
    {
     "data": {
      "text/plain": [
       "Text(0,0.5,'True +ve rate')"
      ]
     },
     "execution_count": 217,
     "metadata": {},
     "output_type": "execute_result"
    },
    {
     "data": {
      "text/plain": [
       "Text(0.5,0,'False +ve rate')"
      ]
     },
     "execution_count": 217,
     "metadata": {},
     "output_type": "execute_result"
    },
    {
     "data": {
      "image/png": "[encoded data removed]",
      "text/plain": [
       "<Figure size 432x288 with 1 Axes>"
      ]
     },
     "metadata": {},
     "output_type": "display_data"
    }
   ],
   "source": [
    "fpr, tpr, th=roc_curve(test_y,classes)\n",
    "roc_auc=metrics.auc(fpr,tpr)\n",
    "import matplotlib.pyplot as plt\n",
    "plt.title('ROCR CHART')\n",
    "plt.plot(fpr,tpr,'b',label='AUC = %0.2f'% roc_auc)\n",
    "plt.legend(loc='lower right')\n",
    "plt.plot([0,1],[0,1],'o--')\n",
    "plt.xlim([0,1])\n",
    "plt.ylim([0,1])\n",
    "plt.ylabel('True +ve rate')\n",
    "plt.xlabel('False +ve rate')\n",
    "plt.show()"
   ]
  },
  {
   "cell_type": "code",
   "execution_count": 218,
   "metadata": {},
   "outputs": [
    {
     "name": "stdout",
     "output_type": "stream",
     "text": [
      "Confusion Matrix\n"
     ]
    },
    {
     "data": {
      "image/png": "[encoded data removed]",
      "text/plain": [
       "<Figure size 432x288 with 2 Axes>"
      ]
     },
     "metadata": {},
     "output_type": "display_data"
    }
   ],
   "source": [
    "print(\"Confusion Matrix\")\n",
    "cf=metrics.confusion_matrix(test_y,classes)\n",
    "lbl1=[\"Predicted 0\",\"Predicted 1\"]\n",
    "lbl2=[\"True 0\",\"True 1\"]\n",
    "sns.heatmap(cf,annot=True,cmap=\"Greens\",fmt=\"d\",xticklabels=lbl1,yticklabels=lbl2)\n",
    "plt.show();"
   ]
  },
  {
   "cell_type": "code",
   "execution_count": null,
   "metadata": {},
   "outputs": [],
   "source": []
  }
 ],
 "metadata": {
  "kernelspec": {
   "display_name": "Python 3",
   "language": "python",
   "name": "python3"
  },
  "language_info": {
   "codemirror_mode": {
    "name": "ipython",
    "version": 3
   },
   "file_extension": ".py",
   "mimetype": "text/x-python",
   "name": "python",
   "nbconvert_exporter": "python",
   "pygments_lexer": "ipython3",
   "version": "3.6.5"
  }
 },
 "nbformat": 4,
 "nbformat_minor": 2
}
